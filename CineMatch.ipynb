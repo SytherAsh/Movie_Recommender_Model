{
 "cells": [
  {
   "cell_type": "code",
   "execution_count": 214,
   "id": "369806b7-bfc6-4134-8d3c-80c96476b304",
   "metadata": {},
   "outputs": [],
   "source": [
    "import pandas as pd\n",
    "import numpy as np\n",
    "import ast\n",
    "import pickle\n",
    "\n"
   ]
  },
  {
   "cell_type": "code",
   "execution_count": 215,
   "id": "d58b62f6-32c6-487f-b5d0-28b6f7c4f0c6",
   "metadata": {},
   "outputs": [
    {
     "name": "stdout",
     "output_type": "stream",
     "text": [
      "2.1.4\n",
      "3.11.7\n"
     ]
    }
   ],
   "source": [
    "import platform\n",
    "print(pd.__version__)\n",
    "print(platform.python_version())\n",
    "\n"
   ]
  },
  {
   "cell_type": "code",
   "execution_count": null,
   "id": "407bc230-44ad-4867-aaa6-6dee0be0bd00",
   "metadata": {},
   "outputs": [],
   "source": []
  },
  {
   "cell_type": "code",
   "execution_count": 216,
   "id": "5f1b814b-fbad-404c-bc2d-4e9983decc2e",
   "metadata": {},
   "outputs": [],
   "source": [
    "mv=pd.read_csv(\"movies.csv\")\n",
    "cd=pd.read_csv(\"credits.csv\")\n",
    "\n",
    "df=mv.merge(cd,on='title')\n",
    "# df.head(5)\n",
    "# mv.head()\n"
   ]
  },
  {
   "cell_type": "code",
   "execution_count": 217,
   "id": "2218e1ec-3674-4287-9ef6-7d22a23ae89f",
   "metadata": {},
   "outputs": [],
   "source": [
    "df.drop([ 'id', 'spoken_languages','homepage', 'status', 'tagline', 'original_title', 'vote_count'],axis=1,inplace=True)"
   ]
  },
  {
   "cell_type": "code",
   "execution_count": 218,
   "id": "c2f94c81-ff0d-4da6-84b5-bf5e8c0f4e81",
   "metadata": {},
   "outputs": [
    {
     "data": {
      "text/plain": [
       "budget                  0\n",
       "genres                  0\n",
       "keywords                0\n",
       "original_language       0\n",
       "overview                3\n",
       "popularity              0\n",
       "production_companies    0\n",
       "production_countries    0\n",
       "release_date            1\n",
       "revenue                 0\n",
       "runtime                 2\n",
       "title                   0\n",
       "vote_average            0\n",
       "movie_id                0\n",
       "cast                    0\n",
       "crew                    0\n",
       "dtype: int64"
      ]
     },
     "execution_count": 218,
     "metadata": {},
     "output_type": "execute_result"
    }
   ],
   "source": [
    "df.isnull().sum()"
   ]
  },
  {
   "cell_type": "code",
   "execution_count": 219,
   "id": "66c8e2e6-2fa4-4bff-9021-e84d7578f1a1",
   "metadata": {},
   "outputs": [],
   "source": [
    "df.dropna(inplace=True)"
   ]
  },
  {
   "cell_type": "code",
   "execution_count": 220,
   "id": "7b13371c-8c7a-430b-a0b0-3cfd0fb7c6dd",
   "metadata": {},
   "outputs": [
    {
     "data": {
      "text/plain": [
       "0"
      ]
     },
     "execution_count": 220,
     "metadata": {},
     "output_type": "execute_result"
    }
   ],
   "source": [
    "df.duplicated().sum()"
   ]
  },
  {
   "cell_type": "code",
   "execution_count": 221,
   "id": "66494668-db0c-4fb0-b56d-e684c02e0fde",
   "metadata": {},
   "outputs": [],
   "source": [
    "med=df.budget.median()\n",
    "df['budget']=df['budget'].replace(0,med)\n"
   ]
  },
  {
   "cell_type": "code",
   "execution_count": 222,
   "id": "98780ee1-2e8a-477a-a291-31a4688883b8",
   "metadata": {},
   "outputs": [],
   "source": [
    "df.insert(0,'movie_id',df.pop('movie_id'))\n",
    "# df.head(3)"
   ]
  },
  {
   "cell_type": "code",
   "execution_count": 223,
   "id": "985c588c-4541-4674-a918-888f1b5a852c",
   "metadata": {},
   "outputs": [],
   "source": [
    "def budget(l1):\n",
    "    mov_list=[]\n",
    "    for i in l1:\n",
    "        mov_dict={\n",
    "            'name': i,\n",
    "            'index':df.loc[df['title'] == i].index[0],\n",
    "            'budget':(list(df.loc[df['title'] == i].budget))\n",
    "        }\n",
    "        \n",
    "        mov_list.append(mov_dict)\n",
    "        \n",
    "    mov_list.sort(key=lambda x:x['budget'],reverse=True)\n",
    "    l2=[]\n",
    "    for i in mov_list:\n",
    "        l2.append(i['name'])\n",
    "    return l2\n",
    "    \n",
    "\n",
    "# mov_list=[]\n",
    "# for i in l1:\n",
    "#     mov_list.append(list(df.loc[df['title'] == i].index))\n",
    "#     mov_list.sort(reverse=True)\n",
    "    \n",
    "# # print(mov_list)\n",
    "# for i in range(len(mov_list)):\n",
    "#     print(df.iloc[i]['title'])\n",
    "    \n"
   ]
  },
  {
   "cell_type": "code",
   "execution_count": 224,
   "id": "1828f336-091b-4560-b3bc-2aab9b5226d8",
   "metadata": {},
   "outputs": [],
   "source": [
    "def converter(obj):\n",
    "    l=[]\n",
    "    for i in ast.literal_eval(obj):\n",
    "        l.append(i['name'])\n",
    "    return l\n",
    "def converter_prod_comp(obj):\n",
    "    l=[]\n",
    "    for i in ast.literal_eval(obj):\n",
    "        l.append(i['name'])\n",
    "        return l\n",
    "def converter_cast(obj):\n",
    "    l=[]\n",
    "    cnt=0\n",
    "    for i in ast.literal_eval(obj):\n",
    "        if cnt !=3:\n",
    "            l.append(i['name'])\n",
    "            cnt+=1\n",
    "        else:\n",
    "            break\n",
    "    return l\n",
    "def converter_crew(obj):\n",
    "    l=[]\n",
    "    for i in ast.literal_eval(obj):\n",
    "        if i['job'] == 'Director' :\n",
    "            l.append(i['name'])\n",
    "            break\n",
    "    return l\n",
    "    \n",
    "# x=ast.literal_eval('[{\"id\": 28, \"name\": \"Action\"}, {\"id\": 12, \"name\": \"Adventure\"}, {\"id\": 14, \"name\": \"Fantasy\"}, {\"id\": 878, \"name\": \"Science Fiction\"}]')\n",
    "# x[0]['name']"
   ]
  },
  {
   "cell_type": "code",
   "execution_count": 225,
   "id": "30ced304-baa6-42f3-bca0-02f736902a3e",
   "metadata": {},
   "outputs": [],
   "source": [
    "df['cast']=df['cast'].apply(converter_cast)\n"
   ]
  },
  {
   "cell_type": "code",
   "execution_count": 226,
   "id": "f7065685-1cdf-467e-bea5-f8e782c32770",
   "metadata": {},
   "outputs": [],
   "source": [
    "df['crew']=df['crew'].apply(converter_crew)\n",
    "# df=df.explode('crew')\n",
    "\n"
   ]
  },
  {
   "cell_type": "code",
   "execution_count": null,
   "id": "198e5af9-ed34-4d48-b01b-85bdad1cc5c5",
   "metadata": {},
   "outputs": [],
   "source": []
  },
  {
   "cell_type": "code",
   "execution_count": 227,
   "id": "58a02908-0be5-455c-a545-7a38a92f074f",
   "metadata": {},
   "outputs": [],
   "source": [
    "df['genres']=df['genres'].apply(converter)"
   ]
  },
  {
   "cell_type": "code",
   "execution_count": 228,
   "id": "54a8f1c0-1b6e-4fba-8866-50be004be56d",
   "metadata": {},
   "outputs": [],
   "source": [
    "df['keywords']= df['keywords'].apply(converter)"
   ]
  },
  {
   "cell_type": "code",
   "execution_count": 229,
   "id": "d3501b95-12a8-42d4-9d67-694802be9b4a",
   "metadata": {},
   "outputs": [],
   "source": [
    "df['production_companies']= df['production_companies'].apply(converter)"
   ]
  },
  {
   "cell_type": "code",
   "execution_count": 230,
   "id": "178a7b68-5f7a-4d73-9722-9860afcab34c",
   "metadata": {},
   "outputs": [],
   "source": [
    "df['production_countries']= df['production_countries'].apply(converter_prod_comp)\n",
    "    "
   ]
  },
  {
   "cell_type": "code",
   "execution_count": 231,
   "id": "06246579-1f88-416f-91dc-bab88b845a14",
   "metadata": {},
   "outputs": [],
   "source": [
    "df['popularity']=df['popularity'].astype('int')"
   ]
  },
  {
   "cell_type": "code",
   "execution_count": 232,
   "id": "417cc90a-aa5e-4699-9f56-742bdfdee33f",
   "metadata": {},
   "outputs": [],
   "source": [
    "df['production_countries'].fillna('NAN',inplace=True)\n",
    "type(df['production_countries'].values[0])\n",
    "df['production_countries'] = df['production_countries'].apply(lambda x: x[0] if x else None)\n",
    "\n",
    "# exploded_list = list(df['production_countries'].values)\n",
    "# exploded_list"
   ]
  },
  {
   "cell_type": "code",
   "execution_count": 233,
   "id": "b30cc7ab-2d62-4c03-81ec-dd8c7657c8e2",
   "metadata": {},
   "outputs": [],
   "source": [
    "df['genres']=df['genres'].apply(lambda x:[i.replace(' ','')for i in x])\n",
    "df['keywords']=df['keywords'].apply(lambda x:[i.replace(' ','')for i in x])\n",
    "df['production_companies']=df['production_companies'].apply(lambda x:[i.replace(' ','_')for i in x])\n",
    "df['overview']=df['overview'].apply(lambda x:x.split())\n"
   ]
  },
  {
   "cell_type": "code",
   "execution_count": 234,
   "id": "e963789b-37f8-49ca-9330-a4799e994b3c",
   "metadata": {},
   "outputs": [],
   "source": [
    "def get_unique_elements(df):\n",
    "    unique_element=set()\n",
    "    unique_elements = [item for sublist in df for item in (sublist if isinstance(sublist, list) else [sublist])]\n",
    "    return set(unique_elements)\n",
    "    \n",
    "# uni_genre=get_unique_elements(df.genres)\n",
    "# uni_coun=get_unique_elements(df.production_countries)\n",
    "# uni_com=get_unique_elements(df.production_companies)\n",
    "\n",
    "\n",
    "# print(type(uni_coun))"
   ]
  },
  {
   "cell_type": "code",
   "execution_count": 235,
   "id": "c099f11a-c5d0-4f30-8316-c9b4c17bfb68",
   "metadata": {},
   "outputs": [],
   "source": [
    "df.original_language.replace({'en': 'English',\n",
    "        'ja': 'Japanese',\n",
    "        'fr': 'French',\n",
    "        'zh': 'Chinese',\n",
    "        'es': 'Spanish',\n",
    "        'ko': 'Korean',\n",
    "        'de': 'German',\n",
    "        'hi': 'Hindi',\n",
    "        'ru': 'Russian',\n",
    "        'te': 'Telugu',\n",
    "        'cn': 'Cantonese',\n",
    "        'it': 'Italian',\n",
    "        'nl': 'Dutch',\n",
    "        'ta': 'Tamil',\n",
    "        'sv': 'Swedish',\n",
    "        'th': 'Thai',\n",
    "        'da': 'Danish',\n",
    "        'xx': 'Unknown',\n",
    "        'hu': 'Hungarian',\n",
    "        'cs': 'Czech',\n",
    "        'pt': 'Portuguese',\n",
    "        'is': 'Icelandic',\n",
    "        'tr': 'Turkish',\n",
    "        'nb': 'Norwegian Bokmål',\n",
    "        'af': 'Afrikaans',\n",
    "        'pl': 'Polish',\n",
    "        'he': 'Hebrew',\n",
    "        'ar': 'Arabic',\n",
    "        'vi': 'Vietnamese',\n",
    "        'ky': 'Kyrgyz',\n",
    "        'id': 'Indonesian',\n",
    "        'ro': 'Romanian',\n",
    "        'fa': 'Persian',\n",
    "        'no': 'Norwegian',\n",
    "        'sl': 'Slovenian',\n",
    "        'ps': 'Pashto',\n",
    "        'el': 'Greek'},inplace=True)"
   ]
  },
  {
   "cell_type": "code",
   "execution_count": 236,
   "id": "106fe38b-7ccb-45da-be63-2c7732be176d",
   "metadata": {},
   "outputs": [],
   "source": [
    "df['tag']=df['overview']+df['genres'] + df['keywords'] + df['cast'] + df['crew']\n",
    "df['tag']=df['tag'].apply(lambda x:\" \".join(x))\n",
    "df['tag']=df['tag'].apply(lambda x:x.lower())\n"
   ]
  },
  {
   "cell_type": "code",
   "execution_count": 237,
   "id": "a2c7bffc-63da-4909-9d9a-d38d1b0b67b1",
   "metadata": {},
   "outputs": [],
   "source": [
    "# Assuming you have a DataFrame 'df' with a column 'column_to_scale'\n",
    "df['popularity']  =(df['popularity'] - df['popularity'].min()) / (df['popularity'].max() - df['popularity'].min()) * 100\n",
    "\n"
   ]
  },
  {
   "cell_type": "code",
   "execution_count": 238,
   "id": "6e315acb-5c1e-4f00-ace9-f208b8a8ed38",
   "metadata": {},
   "outputs": [],
   "source": [
    "df['popularity']=df['popularity'].astype(int)"
   ]
  },
  {
   "cell_type": "code",
   "execution_count": 239,
   "id": "80d39738-259c-478d-acbd-9f914e372915",
   "metadata": {},
   "outputs": [],
   "source": [
    "df['Profit']=df['revenue']-df['budget']\n",
    "# df['Profit']\n",
    "def million(x):\n",
    "    return x/1000000\n",
    "df['Profit']=df['Profit'].apply(million)\n",
    "df['Profit']=df['Profit'].astype(int)\n"
   ]
  },
  {
   "cell_type": "code",
   "execution_count": 240,
   "id": "c5b41de6-133d-43c1-81c1-f832682acf9f",
   "metadata": {},
   "outputs": [],
   "source": [
    "df['budget']=df['budget'].apply(million)\n",
    "df['budget']=df['budget'].astype(int)"
   ]
  },
  {
   "cell_type": "code",
   "execution_count": 241,
   "id": "7d092785-6d2f-49fd-b2a7-3db751318997",
   "metadata": {},
   "outputs": [],
   "source": [
    "# print(df['release_date'].isnull().sum())\n",
    "df['release_date'] = pd.to_datetime(df['release_date'])\n",
    "df['year']=df['release_date'].dt.year\n",
    "# df['year'].unique()"
   ]
  },
  {
   "cell_type": "code",
   "execution_count": 242,
   "id": "53be4700-acc1-4cda-81a4-2215b55461df",
   "metadata": {},
   "outputs": [],
   "source": [
    "df['overview']=df['overview'].apply(lambda x:\" \".join(x))\n",
    "# df['overview']"
   ]
  },
  {
   "cell_type": "code",
   "execution_count": 243,
   "id": "e52bc561-fac7-4a96-b4d7-4380fd55a189",
   "metadata": {},
   "outputs": [],
   "source": [
    "df['crew'] = df['crew'].apply(lambda x: x[0] if x else None)\n",
    "# df['crew']"
   ]
  },
  {
   "cell_type": "code",
   "execution_count": 244,
   "id": "63ebdfba-1f60-44fd-9b03-aef2afd1eb92",
   "metadata": {},
   "outputs": [
    {
     "data": {
      "text/plain": [
       "array(['000', '007', '10', ..., 'zooey', 'zucker', 'zwick'], dtype=object)"
      ]
     },
     "execution_count": 244,
     "metadata": {},
     "output_type": "execute_result"
    }
   ],
   "source": [
    "from sklearn.feature_extraction.text import CountVectorizer\n",
    "cv=CountVectorizer(max_features=5000,stop_words='english')\n",
    "vectors=cv.fit_transform(df['tag']).toarray()\n",
    "cv.get_feature_names_out(input_features=None)"
   ]
  },
  {
   "cell_type": "code",
   "execution_count": 245,
   "id": "8b99e158-65e3-4dce-aad6-31aea3a03e37",
   "metadata": {},
   "outputs": [
    {
     "data": {
      "text/plain": [
       "frozenset({'a',\n",
       "           'about',\n",
       "           'above',\n",
       "           'across',\n",
       "           'after',\n",
       "           'afterwards',\n",
       "           'again',\n",
       "           'against',\n",
       "           'all',\n",
       "           'almost',\n",
       "           'alone',\n",
       "           'along',\n",
       "           'already',\n",
       "           'also',\n",
       "           'although',\n",
       "           'always',\n",
       "           'am',\n",
       "           'among',\n",
       "           'amongst',\n",
       "           'amoungst',\n",
       "           'amount',\n",
       "           'an',\n",
       "           'and',\n",
       "           'another',\n",
       "           'any',\n",
       "           'anyhow',\n",
       "           'anyone',\n",
       "           'anything',\n",
       "           'anyway',\n",
       "           'anywhere',\n",
       "           'are',\n",
       "           'around',\n",
       "           'as',\n",
       "           'at',\n",
       "           'back',\n",
       "           'be',\n",
       "           'became',\n",
       "           'because',\n",
       "           'become',\n",
       "           'becomes',\n",
       "           'becoming',\n",
       "           'been',\n",
       "           'before',\n",
       "           'beforehand',\n",
       "           'behind',\n",
       "           'being',\n",
       "           'below',\n",
       "           'beside',\n",
       "           'besides',\n",
       "           'between',\n",
       "           'beyond',\n",
       "           'bill',\n",
       "           'both',\n",
       "           'bottom',\n",
       "           'but',\n",
       "           'by',\n",
       "           'call',\n",
       "           'can',\n",
       "           'cannot',\n",
       "           'cant',\n",
       "           'co',\n",
       "           'con',\n",
       "           'could',\n",
       "           'couldnt',\n",
       "           'cry',\n",
       "           'de',\n",
       "           'describe',\n",
       "           'detail',\n",
       "           'do',\n",
       "           'done',\n",
       "           'down',\n",
       "           'due',\n",
       "           'during',\n",
       "           'each',\n",
       "           'eg',\n",
       "           'eight',\n",
       "           'either',\n",
       "           'eleven',\n",
       "           'else',\n",
       "           'elsewhere',\n",
       "           'empty',\n",
       "           'enough',\n",
       "           'etc',\n",
       "           'even',\n",
       "           'ever',\n",
       "           'every',\n",
       "           'everyone',\n",
       "           'everything',\n",
       "           'everywhere',\n",
       "           'except',\n",
       "           'few',\n",
       "           'fifteen',\n",
       "           'fifty',\n",
       "           'fill',\n",
       "           'find',\n",
       "           'fire',\n",
       "           'first',\n",
       "           'five',\n",
       "           'for',\n",
       "           'former',\n",
       "           'formerly',\n",
       "           'forty',\n",
       "           'found',\n",
       "           'four',\n",
       "           'from',\n",
       "           'front',\n",
       "           'full',\n",
       "           'further',\n",
       "           'get',\n",
       "           'give',\n",
       "           'go',\n",
       "           'had',\n",
       "           'has',\n",
       "           'hasnt',\n",
       "           'have',\n",
       "           'he',\n",
       "           'hence',\n",
       "           'her',\n",
       "           'here',\n",
       "           'hereafter',\n",
       "           'hereby',\n",
       "           'herein',\n",
       "           'hereupon',\n",
       "           'hers',\n",
       "           'herself',\n",
       "           'him',\n",
       "           'himself',\n",
       "           'his',\n",
       "           'how',\n",
       "           'however',\n",
       "           'hundred',\n",
       "           'i',\n",
       "           'ie',\n",
       "           'if',\n",
       "           'in',\n",
       "           'inc',\n",
       "           'indeed',\n",
       "           'interest',\n",
       "           'into',\n",
       "           'is',\n",
       "           'it',\n",
       "           'its',\n",
       "           'itself',\n",
       "           'keep',\n",
       "           'last',\n",
       "           'latter',\n",
       "           'latterly',\n",
       "           'least',\n",
       "           'less',\n",
       "           'ltd',\n",
       "           'made',\n",
       "           'many',\n",
       "           'may',\n",
       "           'me',\n",
       "           'meanwhile',\n",
       "           'might',\n",
       "           'mill',\n",
       "           'mine',\n",
       "           'more',\n",
       "           'moreover',\n",
       "           'most',\n",
       "           'mostly',\n",
       "           'move',\n",
       "           'much',\n",
       "           'must',\n",
       "           'my',\n",
       "           'myself',\n",
       "           'name',\n",
       "           'namely',\n",
       "           'neither',\n",
       "           'never',\n",
       "           'nevertheless',\n",
       "           'next',\n",
       "           'nine',\n",
       "           'no',\n",
       "           'nobody',\n",
       "           'none',\n",
       "           'noone',\n",
       "           'nor',\n",
       "           'not',\n",
       "           'nothing',\n",
       "           'now',\n",
       "           'nowhere',\n",
       "           'of',\n",
       "           'off',\n",
       "           'often',\n",
       "           'on',\n",
       "           'once',\n",
       "           'one',\n",
       "           'only',\n",
       "           'onto',\n",
       "           'or',\n",
       "           'other',\n",
       "           'others',\n",
       "           'otherwise',\n",
       "           'our',\n",
       "           'ours',\n",
       "           'ourselves',\n",
       "           'out',\n",
       "           'over',\n",
       "           'own',\n",
       "           'part',\n",
       "           'per',\n",
       "           'perhaps',\n",
       "           'please',\n",
       "           'put',\n",
       "           'rather',\n",
       "           're',\n",
       "           'same',\n",
       "           'see',\n",
       "           'seem',\n",
       "           'seemed',\n",
       "           'seeming',\n",
       "           'seems',\n",
       "           'serious',\n",
       "           'several',\n",
       "           'she',\n",
       "           'should',\n",
       "           'show',\n",
       "           'side',\n",
       "           'since',\n",
       "           'sincere',\n",
       "           'six',\n",
       "           'sixty',\n",
       "           'so',\n",
       "           'some',\n",
       "           'somehow',\n",
       "           'someone',\n",
       "           'something',\n",
       "           'sometime',\n",
       "           'sometimes',\n",
       "           'somewhere',\n",
       "           'still',\n",
       "           'such',\n",
       "           'system',\n",
       "           'take',\n",
       "           'ten',\n",
       "           'than',\n",
       "           'that',\n",
       "           'the',\n",
       "           'their',\n",
       "           'them',\n",
       "           'themselves',\n",
       "           'then',\n",
       "           'thence',\n",
       "           'there',\n",
       "           'thereafter',\n",
       "           'thereby',\n",
       "           'therefore',\n",
       "           'therein',\n",
       "           'thereupon',\n",
       "           'these',\n",
       "           'they',\n",
       "           'thick',\n",
       "           'thin',\n",
       "           'third',\n",
       "           'this',\n",
       "           'those',\n",
       "           'though',\n",
       "           'three',\n",
       "           'through',\n",
       "           'throughout',\n",
       "           'thru',\n",
       "           'thus',\n",
       "           'to',\n",
       "           'together',\n",
       "           'too',\n",
       "           'top',\n",
       "           'toward',\n",
       "           'towards',\n",
       "           'twelve',\n",
       "           'twenty',\n",
       "           'two',\n",
       "           'un',\n",
       "           'under',\n",
       "           'until',\n",
       "           'up',\n",
       "           'upon',\n",
       "           'us',\n",
       "           'very',\n",
       "           'via',\n",
       "           'was',\n",
       "           'we',\n",
       "           'well',\n",
       "           'were',\n",
       "           'what',\n",
       "           'whatever',\n",
       "           'when',\n",
       "           'whence',\n",
       "           'whenever',\n",
       "           'where',\n",
       "           'whereafter',\n",
       "           'whereas',\n",
       "           'whereby',\n",
       "           'wherein',\n",
       "           'whereupon',\n",
       "           'wherever',\n",
       "           'whether',\n",
       "           'which',\n",
       "           'while',\n",
       "           'whither',\n",
       "           'who',\n",
       "           'whoever',\n",
       "           'whole',\n",
       "           'whom',\n",
       "           'whose',\n",
       "           'why',\n",
       "           'will',\n",
       "           'with',\n",
       "           'within',\n",
       "           'without',\n",
       "           'would',\n",
       "           'yet',\n",
       "           'you',\n",
       "           'your',\n",
       "           'yours',\n",
       "           'yourself',\n",
       "           'yourselves'})"
      ]
     },
     "execution_count": 245,
     "metadata": {},
     "output_type": "execute_result"
    }
   ],
   "source": [
    "cv.get_stop_words()"
   ]
  },
  {
   "cell_type": "code",
   "execution_count": 246,
   "id": "e82dc23b-eb5e-40c2-ac1f-b7d407cf367e",
   "metadata": {},
   "outputs": [],
   "source": [
    "import nltk\n",
    "from nltk.stem.porter import PorterStemmer \n",
    "ps=PorterStemmer()\n"
   ]
  },
  {
   "cell_type": "code",
   "execution_count": 247,
   "id": "96922f69-051c-4279-993b-87082a2fc5c6",
   "metadata": {},
   "outputs": [],
   "source": [
    "def stem(text):\n",
    "    y=[]\n",
    "\n",
    "    for i in text.split():\n",
    "        y.append(ps.stem(i))\n",
    "\n",
    "    return \" \".join(y)\n",
    "df['tag']=df['tag'].apply(stem)\n",
    "# stem(df['tag'][0])\n"
   ]
  },
  {
   "cell_type": "code",
   "execution_count": 248,
   "id": "0f54e2a3-bbca-42dc-8d73-17a2093d39d4",
   "metadata": {},
   "outputs": [],
   "source": [
    "from sklearn.metrics.pairwise import cosine_similarity\n",
    "\n",
    "similarity=cosine_similarity(vectors)\n",
    "# print(similarity[0])\n",
    "# sorted(enumerate(similarity[0]),reverse=True,key=lambda x:x[1])[1:6]\n",
    "\n",
    "def recommend(movie):\n",
    "    movie_index = df[df['title']== movie].index[0]\n",
    "    # print(movie_index)\n",
    "    distances=similarity[movie_index]\n",
    "    movie_list=sorted(enumerate(distances),reverse=True,key=lambda x:x[1])[1:6]\n",
    "\n",
    "    for i in movie_list:\n",
    "        print(df.iloc[i[0]].title)\n",
    "        # print(i)\n",
    "    return\n"
   ]
  },
  {
   "cell_type": "code",
   "execution_count": null,
   "id": "ecf60d5f-a539-40d4-b41c-ebdfe95c6f44",
   "metadata": {},
   "outputs": [],
   "source": []
  },
  {
   "cell_type": "code",
   "execution_count": 249,
   "id": "c8606448-2b2a-4299-880a-1641d6a8f80c",
   "metadata": {},
   "outputs": [
    {
     "name": "stdout",
     "output_type": "stream",
     "text": [
      "Aliens\n",
      "Independence Day\n",
      "Titan A.E.\n",
      "Aliens vs Predator: Requiem\n",
      "Battle: Los Angeles\n"
     ]
    }
   ],
   "source": [
    "# df.head(5).tag[0]\n",
    "recommend('Avatar')\n",
    "\n",
    "# df.columns\n",
    "# df.overview"
   ]
  },
  {
   "cell_type": "code",
   "execution_count": null,
   "id": "181b5df3-ee14-41cb-8fae-f5104eb87b52",
   "metadata": {},
   "outputs": [],
   "source": []
  },
  {
   "cell_type": "code",
   "execution_count": 250,
   "id": "cc2a826e-e634-474e-99b1-6b7fd2248abe",
   "metadata": {},
   "outputs": [],
   "source": [
    "df.to_csv(\"Final.csv\")\n"
   ]
  },
  {
   "cell_type": "code",
   "execution_count": 251,
   "id": "85e9d0b3-7a66-47ed-8360-d13224137037",
   "metadata": {},
   "outputs": [],
   "source": [
    "pickle.dump(similarity,open('similarity.pkl','wb'))"
   ]
  },
  {
   "cell_type": "code",
   "execution_count": 252,
   "id": "fbe973c7-4e35-4b3e-a30b-bfc2cd0442c9",
   "metadata": {},
   "outputs": [],
   "source": [
    "pickle.dump(df,open('movies.pkl','wb'))\n",
    "\n"
   ]
  },
  {
   "cell_type": "code",
   "execution_count": 253,
   "id": "dcb43dd7-9173-4f04-baec-c34db1bbdb02",
   "metadata": {},
   "outputs": [
    {
     "data": {
      "text/plain": [
       "1205    English\n",
       "1694    English\n",
       "2054    English\n",
       "2134    English\n",
       "Name: original_language, dtype: object"
      ]
     },
     "execution_count": 253,
     "metadata": {},
     "output_type": "execute_result"
    }
   ],
   "source": [
    "\n",
    "def filter_movies_by_type(df, input_list,column):\n",
    "    return df[df[column].apply(lambda x: all(element in x for element in input_list))]\n",
    "\n",
    "input_genres = [\"Comedy\",'Romance','Drama','Thriller']\n",
    "\n",
    "\n",
    "filtered_movies = filter_movies_by_type(df, input_genres,'genres')\n",
    "filtered_movies.original_language"
   ]
  },
  {
   "cell_type": "code",
   "execution_count": 254,
   "id": "cb45076f-668b-46d5-8c22-d536624e15e3",
   "metadata": {},
   "outputs": [],
   "source": [
    "\n",
    "# start_year=2016\n",
    "# end_year=2017\n",
    "# filtered_df = df[df['year'].between(start_year, end_year)]\n",
    "# for i in filtered_df.movie_id:\n",
    "#     print(df[df['movie_id']==i].title.values[0])\n"
   ]
  },
  {
   "cell_type": "code",
   "execution_count": 255,
   "id": "20396143-8c63-447e-81c3-58df14ee4948",
   "metadata": {},
   "outputs": [],
   "source": [
    "# df.loc[df['original_language'] == 'English' ]['title']\n",
    "# "
   ]
  },
  {
   "cell_type": "code",
   "execution_count": 256,
   "id": "0815f96f-65da-4149-bea1-1f4f55eaff8b",
   "metadata": {},
   "outputs": [
    {
     "data": {
      "text/html": [
       "<div>\n",
       "<style scoped>\n",
       "    .dataframe tbody tr th:only-of-type {\n",
       "        vertical-align: middle;\n",
       "    }\n",
       "\n",
       "    .dataframe tbody tr th {\n",
       "        vertical-align: top;\n",
       "    }\n",
       "\n",
       "    .dataframe thead th {\n",
       "        text-align: right;\n",
       "    }\n",
       "</style>\n",
       "<table border=\"1\" class=\"dataframe\">\n",
       "  <thead>\n",
       "    <tr style=\"text-align: right;\">\n",
       "      <th></th>\n",
       "      <th>movie_id</th>\n",
       "      <th>budget</th>\n",
       "      <th>genres</th>\n",
       "      <th>keywords</th>\n",
       "      <th>original_language</th>\n",
       "      <th>overview</th>\n",
       "      <th>popularity</th>\n",
       "      <th>production_companies</th>\n",
       "      <th>production_countries</th>\n",
       "      <th>release_date</th>\n",
       "      <th>revenue</th>\n",
       "      <th>runtime</th>\n",
       "      <th>title</th>\n",
       "      <th>vote_average</th>\n",
       "      <th>cast</th>\n",
       "      <th>crew</th>\n",
       "      <th>tag</th>\n",
       "      <th>Profit</th>\n",
       "      <th>year</th>\n",
       "    </tr>\n",
       "  </thead>\n",
       "  <tbody>\n",
       "    <tr>\n",
       "      <th>1694</th>\n",
       "      <td>4912</td>\n",
       "      <td>30</td>\n",
       "      <td>[Comedy, Crime, Drama, Romance, Thriller]</td>\n",
       "      <td>[microfilm, biography, silencer, intrigue]</td>\n",
       "      <td>English</td>\n",
       "      <td>Television made him famous, but his biggest hi...</td>\n",
       "      <td>2</td>\n",
       "      <td>[Miramax_Films, Allied_Filmmakers, Mad_Chance]</td>\n",
       "      <td>United States of America</td>\n",
       "      <td>2002-12-30</td>\n",
       "      <td>33013805</td>\n",
       "      <td>113.0</td>\n",
       "      <td>Confessions of a Dangerous Mind</td>\n",
       "      <td>6.6</td>\n",
       "      <td>[Sam Rockwell, Drew Barrymore, Julia Roberts]</td>\n",
       "      <td>George Clooney</td>\n",
       "      <td>televis made him famous, but hi biggest hit ha...</td>\n",
       "      <td>3</td>\n",
       "      <td>2002</td>\n",
       "    </tr>\n",
       "    <tr>\n",
       "      <th>2134</th>\n",
       "      <td>9895</td>\n",
       "      <td>20</td>\n",
       "      <td>[Comedy, Drama, Romance, Thriller]</td>\n",
       "      <td>[usapresident, presidentialelection, comedian]</td>\n",
       "      <td>English</td>\n",
       "      <td>The irreverent host of a political satire talk...</td>\n",
       "      <td>1</td>\n",
       "      <td>[Universal_Pictures, Morgan_Creek_Productions]</td>\n",
       "      <td>United States of America</td>\n",
       "      <td>2006-10-09</td>\n",
       "      <td>41237648</td>\n",
       "      <td>115.0</td>\n",
       "      <td>Man of the Year</td>\n",
       "      <td>5.8</td>\n",
       "      <td>[Robin Williams, Christopher Walken, Laura Lin...</td>\n",
       "      <td>Barry Levinson</td>\n",
       "      <td>the irrever host of a polit satir talk show de...</td>\n",
       "      <td>21</td>\n",
       "      <td>2006</td>\n",
       "    </tr>\n",
       "  </tbody>\n",
       "</table>\n",
       "</div>"
      ],
      "text/plain": [
       "      movie_id  budget                                     genres  \\\n",
       "1694      4912      30  [Comedy, Crime, Drama, Romance, Thriller]   \n",
       "2134      9895      20         [Comedy, Drama, Romance, Thriller]   \n",
       "\n",
       "                                            keywords original_language  \\\n",
       "1694      [microfilm, biography, silencer, intrigue]           English   \n",
       "2134  [usapresident, presidentialelection, comedian]           English   \n",
       "\n",
       "                                               overview  popularity  \\\n",
       "1694  Television made him famous, but his biggest hi...           2   \n",
       "2134  The irreverent host of a political satire talk...           1   \n",
       "\n",
       "                                production_companies  \\\n",
       "1694  [Miramax_Films, Allied_Filmmakers, Mad_Chance]   \n",
       "2134  [Universal_Pictures, Morgan_Creek_Productions]   \n",
       "\n",
       "          production_countries release_date   revenue  runtime  \\\n",
       "1694  United States of America   2002-12-30  33013805    113.0   \n",
       "2134  United States of America   2006-10-09  41237648    115.0   \n",
       "\n",
       "                                title  vote_average  \\\n",
       "1694  Confessions of a Dangerous Mind           6.6   \n",
       "2134                  Man of the Year           5.8   \n",
       "\n",
       "                                                   cast            crew  \\\n",
       "1694      [Sam Rockwell, Drew Barrymore, Julia Roberts]  George Clooney   \n",
       "2134  [Robin Williams, Christopher Walken, Laura Lin...  Barry Levinson   \n",
       "\n",
       "                                                    tag  Profit  year  \n",
       "1694  televis made him famous, but hi biggest hit ha...       3  2002  \n",
       "2134  the irrever host of a polit satir talk show de...      21  2006  "
      ]
     },
     "execution_count": 256,
     "metadata": {},
     "output_type": "execute_result"
    }
   ],
   "source": [
    "genre = [\"Comedy\",'Romance','Drama','Thriller']\n",
    "# genre = ['Drama']\n",
    "\n",
    "Lang = ['English']\n",
    "\n",
    "filtered_df = df[df['year'].between(2000, 2010)]\n",
    "filtered_genre= filter_movies_by_type(filtered_df, genre,'genres')\n",
    "filtered_lang= filter_movies_by_type(filtered_genre, Lang,'original_language')\n",
    "filtered_lang\n",
    "\n"
   ]
  },
  {
   "cell_type": "code",
   "execution_count": 257,
   "id": "babc8f19-213e-4b9a-8d25-80cd26255902",
   "metadata": {},
   "outputs": [
    {
     "name": "stdout",
     "output_type": "stream",
     "text": [
      "2\n"
     ]
    }
   ],
   "source": [
    "countries_list=['United States of America']\n",
    "\n",
    "filtered_coun = filtered_lang[filtered_lang['production_countries'].isin(countries_list)]\n",
    "x=filtered_coun.title\n",
    "\n",
    "(list_of_movies) = x.values.tolist()\n",
    "print(len(list_of_movies))\n",
    "# "
   ]
  },
  {
   "cell_type": "code",
   "execution_count": 258,
   "id": "c4ef03f7-5a9b-457c-8bd9-877ed5c7c131",
   "metadata": {},
   "outputs": [],
   "source": [
    "filtered_coun = filtered_lang[filtered_lang['production_countries'].apply(lambda x: any(country in x for country in countries))]"
   ]
  },
  {
   "cell_type": "code",
   "execution_count": 263,
   "id": "f9a711aa-466b-4ec8-9ed7-46753d452b8c",
   "metadata": {},
   "outputs": [
    {
     "data": {
      "text/plain": [
       "movie_id                0\n",
       "budget                  0\n",
       "genres                  0\n",
       "keywords                0\n",
       "original_language       0\n",
       "overview                0\n",
       "popularity              0\n",
       "production_companies    0\n",
       "production_countries    0\n",
       "release_date            0\n",
       "revenue                 0\n",
       "runtime                 0\n",
       "title                   0\n",
       "vote_average            0\n",
       "cast                    0\n",
       "crew                    0\n",
       "tag                     0\n",
       "Profit                  0\n",
       "year                    0\n",
       "dtype: int64"
      ]
     },
     "execution_count": 263,
     "metadata": {},
     "output_type": "execute_result"
    }
   ],
   "source": [
    "df.loc[df['crew']==\"Christopher Nolan\"].count()"
   ]
  },
  {
   "cell_type": "code",
   "execution_count": null,
   "id": "30989b47-ad6f-4d05-80cd-d068733706b5",
   "metadata": {},
   "outputs": [],
   "source": []
  }
 ],
 "metadata": {
  "kernelspec": {
   "display_name": "Python 3",
   "language": "python",
   "name": "python3"
  },
  "language_info": {
   "codemirror_mode": {
    "name": "ipython",
    "version": 3
   },
   "file_extension": ".py",
   "mimetype": "text/x-python",
   "name": "python",
   "nbconvert_exporter": "python",
   "pygments_lexer": "ipython3",
   "version": "3.11.7"
  },
  "widgets": {
   "application/vnd.jupyter.widget-state+json": {
    "state": {},
    "version_major": 2,
    "version_minor": 0
   }
  }
 },
 "nbformat": 4,
 "nbformat_minor": 5
}
